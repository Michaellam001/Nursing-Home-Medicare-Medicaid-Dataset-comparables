{
 "cells": [
  {
   "cell_type": "code",
   "execution_count": null,
   "metadata": {
    "scrolled": false
   },
   "outputs": [],
   "source": [
    "# 🏥 Nursing Home Medicare & Medicaid Dataset Analysis\n",
    "\n",
    "# This project analyzes nursing home data from Medicare.gov to identify patterns in facility deficiencies, penalties, and ownership types. We'll use Python and machine learning to predict which facilities are most likely to receive penalties based on their performance metrics.\n"
   ]
  },
  {
   "cell_type": "code",
   "execution_count": null,
   "metadata": {},
   "outputs": [],
   "source": []
  },
  {
   "cell_type": "code",
   "execution_count": 42,
   "metadata": {},
   "outputs": [],
   "source": [
    "import pandas as pd\n",
    "import numpy as np\n",
    "import matplotlib.pyplot as plt\n",
    "import seaborn as sns\n",
    "from sklearn.model_selection import train_test_split\n",
    "from sklearn.linear_model import LogisticRegression\n",
    "from sklearn.metrics import classification_report, confusion_matrix"
   ]
  },
  {
   "cell_type": "code",
   "execution_count": 43,
   "metadata": {
    "scrolled": true
   },
   "outputs": [],
   "source": [
    "def_df = pd.read_csv(\"C:/Users/Michael Lam/Desktop/Nursing_Home_Project/deficiencies.csv\", encoding='latin1', low_memory=False)\n",
    "owner_df = pd.read_csv(\"C:/Users/Michael Lam/Desktop/Nursing_Home_Project/ownership.csv\", encoding='latin1', low_memory=False)\n",
    "penalty_df = pd.read_csv(\"C:/Users/Michael Lam/Desktop/Nursing_Home_Project/penalties.csv\", encoding='latin1', low_memory=False)\n",
    "provider_df = pd.read_csv(\"C:/Users/Michael Lam/Desktop/Nursing_Home_Project/provider_info.csv\", encoding='latin1', low_memory=False)\n",
    "quality_claims_df = pd.read_csv(\"C:/Users/Michael Lam/Desktop/Nursing_Home_Project/quality_msr_claims.csv\", encoding='latin1', low_memory=False)\n",
    "\n",
    "\n"
   ]
  },
  {
   "cell_type": "code",
   "execution_count": 44,
   "metadata": {
    "scrolled": false
   },
   "outputs": [],
   "source": [
    "# Remove trailing spaces from column names\n",
    "for df in [def_df, owner_df, penalty_df, provider_df, quality_claims_df]:\n",
    "    df.columns = df.columns.str.strip()"
   ]
  },
  {
   "cell_type": "code",
   "execution_count": 45,
   "metadata": {},
   "outputs": [],
   "source": [
    "## 🧹 Data Cleaning\n",
    "\n",
    "# We standardize column names and check for missing values or inconsistencies across dataframes.\n"
   ]
  },
  {
   "cell_type": "code",
   "execution_count": 46,
   "metadata": {},
   "outputs": [],
   "source": [
    "# Merge Data (Code)"
   ]
  },
  {
   "cell_type": "code",
   "execution_count": 47,
   "metadata": {
    "scrolled": true
   },
   "outputs": [
    {
     "name": "stdout",
     "output_type": "stream",
     "text": [
      "Index(['provnum', 'PROVNAME', 'ADDRESS', 'CITY', 'STATE', 'ZIP', 'PHONE',\n",
      "       'COUNTY_SSA', 'COUNTY_NAME', 'OWNERSHIP', 'BEDCERT', 'RESTOT',\n",
      "       'CERTIFICATION', 'INHOSP', 'LBN', 'PARTICIPATION_DATE', 'CCRC_FACIL',\n",
      "       'SFF', 'OLDSURVEY', 'CHOW_LAST_12MOS', 'resfamcouncil',\n",
      "       'sprinkler_status', 'overall_rating', 'overall_rating_fn',\n",
      "       'survey_rating', 'survey_rating_fn', 'quality_rating',\n",
      "       'quality_rating_fn', 'staffing_rating', 'staffing_rating_fn',\n",
      "       'RN_staffing_rating', 'rn_staffing_rating_fn', 'STAFFING_FLAG',\n",
      "       'PT_STAFFING_FLAG', 'AIDHRD', 'VOCHRD', 'RNHRD', 'TOTLICHRD', 'TOTHRD',\n",
      "       'PTHRD', 'exp_aide', 'exp_lpn', 'exp_rn', 'exp_total', 'adj_aide',\n",
      "       'adj_lpn', 'adj_rn', 'adj_total', 'cycle_1_defs', 'cycle_1_nfromdefs',\n",
      "       'cycle_1_nfromcomp', 'cycle_1_defs_score', 'CYCLE_1_SURVEY_DATE',\n",
      "       'CYCLE_1_NUMREVIS', 'CYCLE_1_REVISIT_SCORE', 'CYCLE_1_TOTAL_SCORE',\n",
      "       'cycle_2_defs', 'cycle_2_nfromdefs', 'cycle_2_nfromcomp',\n",
      "       'cycle_2_defs_score', 'CYCLE_2_SURVEY_DATE', 'CYCLE_2_NUMREVIS',\n",
      "       'CYCLE_2_REVISIT_SCORE', 'CYCLE_2_TOTAL_SCORE', 'cycle_3_defs',\n",
      "       'cycle_3_nfromdefs', 'cycle_3_nfromcomp', 'cycle_3_defs_score',\n",
      "       'CYCLE_3_SURVEY_DATE', 'CYCLE_3_NUMREVIS', 'CYCLE_3_REVISIT_SCORE',\n",
      "       'CYCLE_3_TOTAL_SCORE', 'WEIGHTED_ALL_CYCLES_SCORE', 'incident_cnt',\n",
      "       'cmplnt_cnt', 'FINE_CNT', 'FINE_TOT', 'PAYDEN_CNT', 'TOT_PENLTY_CNT',\n",
      "       'FILEDATE'],\n",
      "      dtype='object')\n",
      "Index(['provnum', 'provname', 'address', 'city', 'state', 'zip', 'pnlty_date',\n",
      "       'pnlty_type', 'fine_amt', 'payden_strt_dt', 'payden_days', 'filedate'],\n",
      "      dtype='object')\n",
      "Index(['provnum', 'Provname', 'address', 'city', 'state', 'zip',\n",
      "       'survey_date_output', 'SurveyType', 'defpref', 'tag', 'tag_desc',\n",
      "       'scope', 'defstat', 'statdate', 'cycle', 'standard', 'complaint',\n",
      "       'filedate'],\n",
      "      dtype='object')\n",
      "Index(['provnum', 'PROVNAME', 'ADDRESS', 'CITY', 'STATE', 'ZIP', 'MSR_CD',\n",
      "       'MSR_DESCR', 'STAY_TYPE', 'Q1_MEASURE_SCORE', 'Q1_MEASURE_FN',\n",
      "       'Q2_MEASURE_SCORE', 'Q2_MEASURE_FN', 'Q3_MEASURE_SCORE',\n",
      "       'Q3_MEASURE_FN', 'Q4_MEASURE_SCORE', 'Q4_MEASURE_FN',\n",
      "       'MEASURE_SCORE_4QTR_AVG', 'SCORE4QTR_FN', 'FIVE_STAR_MSR', 'Q1_QUARTER',\n",
      "       'Q2_QUARTER', 'Q3_QUARTER', 'Q4_QUARTER', 'FILEDATE'],\n",
      "      dtype='object')\n"
     ]
    }
   ],
   "source": [
    "print(provider_df.columns)\n",
    "print(penalty_df.columns)\n",
    "print(def_df.columns)\n",
    "print(quality_msr_mds_df.columns)\n"
   ]
  },
  {
   "cell_type": "code",
   "execution_count": 48,
   "metadata": {},
   "outputs": [],
   "source": [
    "# First, make sure all column names are stripped of spaces\n",
    "provider_df.columns = provider_df.columns.str.strip()\n",
    "penalty_df.columns = penalty_df.columns.str.strip()\n",
    "def_df.columns = def_df.columns.str.strip()\n",
    "\n",
    "# Optional: convert 'provnum' to string for consistent merging (especially if merging with other datasets later)\n",
    "provider_df['provnum'] = provider_df['provnum'].astype(str)\n",
    "penalty_df['provnum'] = penalty_df['provnum'].astype(str)\n",
    "def_df['provnum'] = def_df['provnum'].astype(str)\n",
    "\n",
    "# Merge penalty and deficiencies into provider_df\n",
    "merged_df = provider_df.merge(penalty_df, on='provnum', how='left')\n",
    "merged_df = merged_df.merge(\n",
    "    def_df.groupby('provnum').size().reset_index(name='deficiency_count'),\n",
    "    on='provnum',\n",
    "    how='left'\n",
    ")\n",
    "\n",
    "# Only run this after you properly define and load quality_msr_mds_df\n",
    "# Example: quality_msr_mds_df = pd.read_csv('quality_msr_mds.csv')\n",
    "# merged_df = merged_df.merge(quality_msr_mds_df, on='provnum', how='left')\n",
    "\n",
    "# Fill NaN deficiency counts with 0\n",
    "merged_df['deficiency_count'] = merged_df['deficiency_count'].fillna(0)\n"
   ]
  },
  {
   "cell_type": "code",
   "execution_count": 49,
   "metadata": {},
   "outputs": [],
   "source": [
    "quality_msr_mds_df.rename(columns={'PROVNUM': 'provnum'}, inplace=True)\n"
   ]
  },
  {
   "cell_type": "code",
   "execution_count": 50,
   "metadata": {},
   "outputs": [],
   "source": [
    "merged_df = merged_df.merge(quality_msr_mds_df, on='provnum', how='left')\n"
   ]
  },
  {
   "cell_type": "code",
   "execution_count": 51,
   "metadata": {},
   "outputs": [],
   "source": [
    "# Standardize column names and types\n",
    "for df in [provider_df, penalty_df, def_df, quality_msr_mds_df]:\n",
    "    df.columns = df.columns.str.strip()\n",
    "    if 'provnum' in df.columns:\n",
    "        df['provnum'] = df['provnum'].astype(str)\n",
    "\n",
    "# Merge datasets using 'provnum'\n",
    "merged_df = provider_df.merge(penalty_df, on='provnum', how='left')\n",
    "merged_df = merged_df.merge(\n",
    "    def_df.groupby('provnum').size().reset_index(name='deficiency_count'),\n",
    "    on='provnum',\n",
    "    how='left'\n",
    ")\n",
    "merged_df = merged_df.merge(quality_msr_mds_df, on='provnum', how='left')\n",
    "merged_df['deficiency_count'] = merged_df['deficiency_count'].fillna(0)\n",
    "\n",
    "\n"
   ]
  },
  {
   "cell_type": "code",
   "execution_count": 52,
   "metadata": {},
   "outputs": [
    {
     "name": "stdout",
     "output_type": "stream",
     "text": [
      "['provnum', 'PROVNAME', 'ADDRESS', 'CITY', 'STATE', 'ZIP', 'MSR_CD', 'MSR_DESCR', 'STAY_TYPE', 'Q1_MEASURE_SCORE', 'Q1_MEASURE_FN', 'Q2_MEASURE_SCORE', 'Q2_MEASURE_FN', 'Q3_MEASURE_SCORE', 'Q3_MEASURE_FN', 'Q4_MEASURE_SCORE', 'Q4_MEASURE_FN', 'MEASURE_SCORE_4QTR_AVG', 'SCORE4QTR_FN', 'FIVE_STAR_MSR', 'Q1_QUARTER', 'Q2_QUARTER', 'Q3_QUARTER', 'Q4_QUARTER', 'FILEDATE']\n"
     ]
    }
   ],
   "source": [
    "print(quality_msr_mds_df.columns.tolist())\n"
   ]
  },
  {
   "cell_type": "code",
   "execution_count": 55,
   "metadata": {},
   "outputs": [
    {
     "ename": "NameError",
     "evalue": "name 'quality_mds_df' is not defined",
     "output_type": "error",
     "traceback": [
      "\u001b[1;31m---------------------------------------------------------------------------\u001b[0m",
      "\u001b[1;31mNameError\u001b[0m                                 Traceback (most recent call last)",
      "\u001b[1;32m<ipython-input-55-effadd2b8bc5>\u001b[0m in \u001b[0;36m<module>\u001b[1;34m\u001b[0m\n\u001b[0;32m      1\u001b[0m \u001b[1;31m# Standardize column names\u001b[0m\u001b[1;33m\u001b[0m\u001b[1;33m\u001b[0m\u001b[1;33m\u001b[0m\u001b[0m\n\u001b[1;32m----> 2\u001b[1;33m \u001b[1;32mfor\u001b[0m \u001b[0mdf\u001b[0m \u001b[1;32min\u001b[0m \u001b[1;33m[\u001b[0m\u001b[0mprovider_df\u001b[0m\u001b[1;33m,\u001b[0m \u001b[0mpenalty_df\u001b[0m\u001b[1;33m,\u001b[0m \u001b[0mdef_df\u001b[0m\u001b[1;33m,\u001b[0m \u001b[0mquality_mds_df\u001b[0m\u001b[1;33m]\u001b[0m\u001b[1;33m:\u001b[0m\u001b[1;33m\u001b[0m\u001b[1;33m\u001b[0m\u001b[0m\n\u001b[0m\u001b[0;32m      3\u001b[0m     \u001b[0mdf\u001b[0m\u001b[1;33m.\u001b[0m\u001b[0mcolumns\u001b[0m \u001b[1;33m=\u001b[0m \u001b[0mdf\u001b[0m\u001b[1;33m.\u001b[0m\u001b[0mcolumns\u001b[0m\u001b[1;33m.\u001b[0m\u001b[0mstr\u001b[0m\u001b[1;33m.\u001b[0m\u001b[0mstrip\u001b[0m\u001b[1;33m(\u001b[0m\u001b[1;33m)\u001b[0m\u001b[1;33m\u001b[0m\u001b[1;33m\u001b[0m\u001b[0m\n\u001b[0;32m      4\u001b[0m     \u001b[1;32mif\u001b[0m \u001b[1;34m'provnum'\u001b[0m \u001b[1;32min\u001b[0m \u001b[0mdf\u001b[0m\u001b[1;33m.\u001b[0m\u001b[0mcolumns\u001b[0m\u001b[1;33m:\u001b[0m\u001b[1;33m\u001b[0m\u001b[1;33m\u001b[0m\u001b[0m\n\u001b[0;32m      5\u001b[0m         \u001b[0mdf\u001b[0m\u001b[1;33m[\u001b[0m\u001b[1;34m'provnum'\u001b[0m\u001b[1;33m]\u001b[0m \u001b[1;33m=\u001b[0m \u001b[0mdf\u001b[0m\u001b[1;33m[\u001b[0m\u001b[1;34m'provnum'\u001b[0m\u001b[1;33m]\u001b[0m\u001b[1;33m.\u001b[0m\u001b[0mastype\u001b[0m\u001b[1;33m(\u001b[0m\u001b[0mstr\u001b[0m\u001b[1;33m)\u001b[0m\u001b[1;33m\u001b[0m\u001b[1;33m\u001b[0m\u001b[0m\n",
      "\u001b[1;31mNameError\u001b[0m: name 'quality_mds_df' is not defined"
     ]
    }
   ],
   "source": [
    "# Standardize column names\n",
    "for df in [provider_df, penalty_df, def_df, quality_mds_df]:\n",
    "    df.columns = df.columns.str.strip()\n",
    "    if 'provnum' in df.columns:\n",
    "        df['provnum'] = df['provnum'].astype(str)\n",
    "    elif 'PROVNUM' in df.columns:\n",
    "        df.rename(columns={'PROVNUM': 'provnum'}, inplace=True)\n",
    "        df['provnum'] = df['provnum'].astype(str)\n",
    "\n",
    "# Merge using 'provnum'\n",
    "merged_df = provider_df.merge(penalty_df, on='provnum', how='left')\n",
    "merged_df = merged_df.merge(def_df.groupby('provnum').size().reset_index(name='deficiency_count'), on='provnum', how='left')\n",
    "merged_df = merged_df.merge(quality_mds_df, on='provnum', how='left')\n",
    "merged_df['deficiency_count'] = merged_df['deficiency_count'].fillna(0)\n"
   ]
  },
  {
   "cell_type": "code",
   "execution_count": 56,
   "metadata": {},
   "outputs": [],
   "source": [
    "quality_mds_df = pd.read_csv(r'C:\\Users\\Michael Lam\\Desktop\\Nursinghomemedicaredata\\quality_msr_mds.csv')\n"
   ]
  },
  {
   "cell_type": "code",
   "execution_count": 57,
   "metadata": {},
   "outputs": [],
   "source": [
    "quality_mds_df.columns = quality_mds_df.columns.str.strip()\n",
    "if 'PROVNUM' in quality_mds_df.columns:\n",
    "    quality_mds_df.rename(columns={'PROVNUM': 'provnum'}, inplace=True)\n",
    "quality_mds_df['provnum'] = quality_mds_df['provnum'].astype(str)\n"
   ]
  },
  {
   "cell_type": "code",
   "execution_count": 58,
   "metadata": {},
   "outputs": [],
   "source": [
    "# Standardize column names\n",
    "for df in [provider_df, penalty_df, def_df, quality_mds_df]:\n",
    "    df.columns = df.columns.str.strip()\n",
    "    if 'provnum' in df.columns:\n",
    "        df['provnum'] = df['provnum'].astype(str)\n",
    "    elif 'PROVNUM' in df.columns:\n",
    "        df.rename(columns={'PROVNUM': 'provnum'}, inplace=True)\n",
    "        df['provnum'] = df['provnum'].astype(str)\n",
    "\n",
    "# Merge using 'provnum'\n",
    "merged_df = provider_df.merge(penalty_df, on='provnum', how='left')\n",
    "merged_df = merged_df.merge(def_df.groupby('provnum').size().reset_index(name='deficiency_count'), on='provnum', how='left')\n",
    "merged_df = merged_df.merge(quality_mds_df, on='provnum', how='left')\n",
    "merged_df['deficiency_count'] = merged_df['deficiency_count'].fillna(0)\n"
   ]
  },
  {
   "cell_type": "code",
   "execution_count": null,
   "metadata": {},
   "outputs": [],
   "source": [
    "# Exploratory Data Analysis (EDA)"
   ]
  },
  {
   "cell_type": "code",
   "execution_count": 61,
   "metadata": {},
   "outputs": [],
   "source": [
    "merged_df['fine_amount'] = merged_df.get('fine_amount', pd.Series([0]*len(merged_df)))\n",
    "('Fine Amount')\n",
    "plt.show()\n",
    "\n"
   ]
  },
  {
   "cell_type": "code",
   "execution_count": null,
   "metadata": {},
   "outputs": [],
   "source": []
  },
  {
   "cell_type": "code",
   "execution_count": 65,
   "metadata": {},
   "outputs": [
    {
     "name": "stdout",
     "output_type": "stream",
     "text": [
      "Collecting seaborn\n",
      "  Using cached seaborn-0.13.2-py3-none-any.whl (294 kB)\n",
      "Collecting matplotlib!=3.6.1,>=3.4\n",
      "  Using cached matplotlib-3.7.5-cp38-cp38-win_amd64.whl (7.5 MB)\n",
      "Collecting pandas>=1.2\n",
      "  Using cached pandas-2.0.3-cp38-cp38-win_amd64.whl (10.8 MB)\n",
      "Collecting numpy!=1.24.0,>=1.20\n",
      "  Using cached numpy-1.24.4-cp38-cp38-win_amd64.whl (14.9 MB)\n",
      "Requirement already satisfied, skipping upgrade: importlib-resources>=3.2.0; python_version < \"3.10\" in c:\\programdata\\anaconda3\\lib\\site-packages (from matplotlib!=3.6.1,>=3.4->seaborn) (6.4.4)\n",
      "Requirement already satisfied, skipping upgrade: cycler>=0.10 in c:\\programdata\\anaconda3\\lib\\site-packages (from matplotlib!=3.6.1,>=3.4->seaborn) (0.10.0)\n",
      "Requirement already satisfied, skipping upgrade: kiwisolver>=1.0.1 in c:\\programdata\\anaconda3\\lib\\site-packages (from matplotlib!=3.6.1,>=3.4->seaborn) (1.2.0)\n",
      "Requirement already satisfied, skipping upgrade: python-dateutil>=2.7 in c:\\programdata\\anaconda3\\lib\\site-packages (from matplotlib!=3.6.1,>=3.4->seaborn) (2.8.1)\n",
      "Collecting contourpy>=1.0.1\n",
      "  Using cached contourpy-1.1.1-cp38-cp38-win_amd64.whl (477 kB)\n",
      "Requirement already satisfied, skipping upgrade: fonttools>=4.22.0 in c:\\programdata\\anaconda3\\lib\\site-packages (from matplotlib!=3.6.1,>=3.4->seaborn) (4.53.1)\n",
      "Requirement already satisfied, skipping upgrade: pillow>=6.2.0 in c:\\programdata\\anaconda3\\lib\\site-packages (from matplotlib!=3.6.1,>=3.4->seaborn) (7.2.0)\n",
      "Requirement already satisfied, skipping upgrade: pyparsing>=2.3.1 in c:\\programdata\\anaconda3\\lib\\site-packages (from matplotlib!=3.6.1,>=3.4->seaborn) (2.4.7)\n",
      "Requirement already satisfied, skipping upgrade: packaging>=20.0 in c:\\programdata\\anaconda3\\lib\\site-packages (from matplotlib!=3.6.1,>=3.4->seaborn) (20.4)\n",
      "Requirement already satisfied, skipping upgrade: pytz>=2020.1 in c:\\programdata\\anaconda3\\lib\\site-packages (from pandas>=1.2->seaborn) (2020.1)\n",
      "Collecting tzdata>=2022.1\n",
      "  Downloading tzdata-2025.2-py2.py3-none-any.whl (347 kB)\n",
      "Requirement already satisfied, skipping upgrade: zipp>=3.1.0; python_version < \"3.10\" in c:\\programdata\\anaconda3\\lib\\site-packages (from importlib-resources>=3.2.0; python_version < \"3.10\"->matplotlib!=3.6.1,>=3.4->seaborn) (3.1.0)\n",
      "Requirement already satisfied, skipping upgrade: six in c:\\programdata\\anaconda3\\lib\\site-packages (from cycler>=0.10->matplotlib!=3.6.1,>=3.4->seaborn) (1.15.0)\n",
      "Installing collected packages: numpy, contourpy, matplotlib, tzdata, pandas, seaborn\n",
      "  Attempting uninstall: numpy\n",
      "    Found existing installation: numpy 1.18.5\n",
      "    Uninstalling numpy-1.18.5:\n",
      "Note: you may need to restart the kernel to use updated packages.\n"
     ]
    },
    {
     "name": "stderr",
     "output_type": "stream",
     "text": [
      "ERROR: pandas 2.0.3 has requirement python-dateutil>=2.8.2, but you'll have python-dateutil 2.8.1 which is incompatible.\n",
      "ERROR: Could not install packages due to an EnvironmentError: [WinError 5] Access is denied: 'c:\\\\programdata\\\\anaconda3\\\\lib\\\\site-packages\\\\numpy\\\\compat\\\\py3k.py'\n",
      "Consider using the `--user` option or check the permissions.\n",
      "\n"
     ]
    }
   ],
   "source": [
    "pip install --upgrade seaborn\n"
   ]
  },
  {
   "cell_type": "code",
   "execution_count": 67,
   "metadata": {},
   "outputs": [
    {
     "data": {
      "image/png": "[encoded data removed]",
      "text/plain": [
       "<Figure size 432x288 with 1 Axes>"
      ]
     },
     "metadata": {
      "needs_background": "light"
     },
     "output_type": "display_data"
    },
    {
     "data": {
      "image/png": "[encoded data removed]",
      "text/plain": [
       "<Figure size 432x288 with 1 Axes>"
      ]
     },
     "metadata": {
      "needs_background": "light"
     },
     "output_type": "display_data"
    }
   ],
   "source": [
    "import matplotlib.pyplot as plt\n",
    "\n",
    "# Plot the distribution of deficiency counts\n",
    "plt.hist(merged_df['deficiency_count'], bins=30)\n",
    "plt.title('Distribution of Deficiency Counts')\n",
    "plt.show()\n",
    "\n",
    "# Plot the penalty distribution\n",
    "sns.boxplot(x='fine_amount', data=merged_df)\n",
    "plt.title('Penalty Distribution')\n",
    "plt.show()\n",
    "\n"
   ]
  },
  {
   "cell_type": "code",
   "execution_count": null,
   "metadata": {},
   "outputs": [],
   "source": []
  },
  {
   "cell_type": "code",
   "execution_count": null,
   "metadata": {},
   "outputs": [],
   "source": []
  },
  {
   "cell_type": "code",
   "execution_count": 70,
   "metadata": {},
   "outputs": [
    {
     "name": "stdout",
     "output_type": "stream",
     "text": [
      "1    378399\n",
      "Name: penalized, dtype: int64\n"
     ]
    }
   ],
   "source": [
    "print(merged_df['penalized'].value_counts())\n"
   ]
  },
  {
   "cell_type": "code",
   "execution_count": 71,
   "metadata": {},
   "outputs": [
    {
     "name": "stdout",
     "output_type": "stream",
     "text": [
      "Empty DataFrame\n",
      "Columns: [provnum, PROVNAME_x, ADDRESS_x, CITY_x, STATE_x, ZIP_x, PHONE, COUNTY_SSA, COUNTY_NAME, OWNERSHIP, BEDCERT, RESTOT, CERTIFICATION, INHOSP, LBN, PARTICIPATION_DATE, CCRC_FACIL, SFF, OLDSURVEY, CHOW_LAST_12MOS, resfamcouncil, sprinkler_status, overall_rating, overall_rating_fn, survey_rating, survey_rating_fn, quality_rating, quality_rating_fn, staffing_rating, staffing_rating_fn, RN_staffing_rating, rn_staffing_rating_fn, STAFFING_FLAG, PT_STAFFING_FLAG, AIDHRD, VOCHRD, RNHRD, TOTLICHRD, TOTHRD, PTHRD, exp_aide, exp_lpn, exp_rn, exp_total, adj_aide, adj_lpn, adj_rn, adj_total, cycle_1_defs, cycle_1_nfromdefs, cycle_1_nfromcomp, cycle_1_defs_score, CYCLE_1_SURVEY_DATE, CYCLE_1_NUMREVIS, CYCLE_1_REVISIT_SCORE, CYCLE_1_TOTAL_SCORE, cycle_2_defs, cycle_2_nfromdefs, cycle_2_nfromcomp, cycle_2_defs_score, CYCLE_2_SURVEY_DATE, CYCLE_2_NUMREVIS, CYCLE_2_REVISIT_SCORE, CYCLE_2_TOTAL_SCORE, cycle_3_defs, cycle_3_nfromdefs, cycle_3_nfromcomp, cycle_3_defs_score, CYCLE_3_SURVEY_DATE, CYCLE_3_NUMREVIS, CYCLE_3_REVISIT_SCORE, CYCLE_3_TOTAL_SCORE, WEIGHTED_ALL_CYCLES_SCORE, incident_cnt, cmplnt_cnt, FINE_CNT, FINE_TOT, PAYDEN_CNT, TOT_PENLTY_CNT, FILEDATE_x, provname, address, city, state, zip, pnlty_date, pnlty_type, fine_amt, payden_strt_dt, payden_days, filedate, deficiency_count, PROVNAME_y, ADDRESS_y, CITY_y, STATE_y, ZIP_y, MSR_CD, MSR_DESCR, STAY_TYPE, ...]\n",
      "Index: []\n",
      "\n",
      "[0 rows x 118 columns]\n"
     ]
    }
   ],
   "source": [
    "print(merged_df[merged_df['fine_amount'].isnull()])\n"
   ]
  },
  {
   "cell_type": "code",
   "execution_count": 72,
   "metadata": {},
   "outputs": [
    {
     "name": "stdout",
     "output_type": "stream",
     "text": [
      "[[   69   142]\n",
      " [32032 43637]]\n",
      "              precision    recall  f1-score   support\n",
      "\n",
      "           0       0.00      0.33      0.00       211\n",
      "           1       1.00      0.58      0.73     75669\n",
      "\n",
      "    accuracy                           0.58     75880\n",
      "   macro avg       0.50      0.45      0.37     75880\n",
      "weighted avg       0.99      0.58      0.73     75880\n",
      "\n"
     ]
    }
   ],
   "source": [
    "# Introduce a small number of synthetic 'non-penalized' rows\n",
    "non_penalized_data = merged_df.sample(1000, random_state=42)  # Select 1000 random rows to convert\n",
    "non_penalized_data['penalized'] = 0  # Set their 'penalized' column to 0\n",
    "\n",
    "# Append these rows to the original dataset\n",
    "merged_df_balanced = pd.concat([merged_df, non_penalized_data])\n",
    "\n",
    "# Now you can proceed with training the model on the new dataset\n",
    "X = merged_df_balanced[['deficiency_count']].fillna(0)\n",
    "y = merged_df_balanced['penalized']\n",
    "\n",
    "X_train, X_test, y_train, y_test = train_test_split(X, y, test_size=0.2, random_state=42)\n",
    "\n",
    "# Train the model with class weights balanced\n",
    "model = LogisticRegression(class_weight='balanced')\n",
    "model.fit(X_train, y_train)\n",
    "\n",
    "# Predict on the test set\n",
    "preds = model.predict(X_test)\n",
    "\n",
    "# Print confusion matrix and classification report\n",
    "print(confusion_matrix(y_test, preds))\n",
    "print(classification_report(y_test, preds))\n",
    "\n",
    "\n"
   ]
  },
  {
   "cell_type": "code",
   "execution_count": null,
   "metadata": {},
   "outputs": [],
   "source": [
    "# Here's the markdown for Cell 8 – Summary & Takeaways:"
   ]
  },
  {
   "cell_type": "code",
   "execution_count": null,
   "metadata": {},
   "outputs": [],
   "source": []
  },
  {
   "cell_type": "code",
   "execution_count": null,
   "metadata": {},
   "outputs": [],
   "source": []
  },
  {
   "cell_type": "code",
   "execution_count": null,
   "metadata": {},
   "outputs": [],
   "source": []
  }
 ],
 "metadata": {
  "kernelspec": {
   "display_name": "Python 3",
   "language": "python",
   "name": "python3"
  },
  "language_info": {
   "codemirror_mode": {
    "name": "ipython",
    "version": 3
   },
   "file_extension": ".py",
   "mimetype": "text/x-python",
   "name": "python",
   "nbconvert_exporter": "python",
   "pygments_lexer": "ipython3",
   "version": "3.8.3"
  }
 },
 "nbformat": 4,
 "nbformat_minor": 4
}
